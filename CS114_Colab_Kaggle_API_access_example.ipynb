{
  "nbformat": 4,
  "nbformat_minor": 0,
  "metadata": {
    "colab": {
      "name": "CS114.Copy of Kaggle API access example.ipynb",
      "provenance": [],
      "collapsed_sections": [],
      "include_colab_link": true
    },
    "kernelspec": {
      "name": "python3",
      "display_name": "Python 3"
    }
  },
  "cells": [
    {
      "cell_type": "markdown",
      "metadata": {
        "id": "view-in-github",
        "colab_type": "text"
      },
      "source": [
        "<a href=\"https://colab.research.google.com/github/minhthong4200/CS114.K21/blob/master/CS114_Copy_of_Kaggle_API_access_example.ipynb\" target=\"_parent\"><img src=\"https://colab.research.google.com/assets/colab-badge.svg\" alt=\"Open In Colab\"/></a>"
      ]
    },
    {
      "cell_type": "code",
      "metadata": {
        "id": "akJ8fvsfGVdn",
        "colab_type": "code",
        "colab": {
          "resources": {
            "http://localhost:8080/nbextensions/google.colab/files.js": {
              "data": "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",
              "ok": true,
              "headers": [
                [
                  "content-type",
                  "application/javascript"
                ]
              ],
              "status": 200,
              "status_text": ""
            }
          },
          "base_uri": "https://localhost:8080/",
          "height": 89
        },
        "outputId": "24db548e-ee79-4a8e-ed1e-acada34dedbd"
      },
      "source": [
        "# Run this cell and select the kaggle.json file downloaded\n",
        "# from the Kaggle account settings page.\n",
        "from google.colab import files\n",
        "files.upload()"
      ],
      "execution_count": null,
      "outputs": [
        {
          "output_type": "display_data",
          "data": {
            "text/html": [
              "\n",
              "     <input type=\"file\" id=\"files-137403e1-e67f-41a8-9b6e-7487cea5ee32\" name=\"files[]\" multiple disabled\n",
              "        style=\"border:none\" />\n",
              "     <output id=\"result-137403e1-e67f-41a8-9b6e-7487cea5ee32\">\n",
              "      Upload widget is only available when the cell has been executed in the\n",
              "      current browser session. Please rerun this cell to enable.\n",
              "      </output>\n",
              "      <script src=\"/nbextensions/google.colab/files.js\"></script> "
            ],
            "text/plain": [
              "<IPython.core.display.HTML object>"
            ]
          },
          "metadata": {
            "tags": []
          }
        },
        {
          "output_type": "stream",
          "text": [
            "Saving kaggle.json to kaggle.json\n"
          ],
          "name": "stdout"
        },
        {
          "output_type": "execute_result",
          "data": {
            "text/plain": [
              "{'kaggle.json': b'{\"username\":\"nmthong\",\"key\":\"f541a8ff9acc98926e9911cc5e4dfeae\"}'}"
            ]
          },
          "metadata": {
            "tags": []
          },
          "execution_count": 3
        }
      ]
    },
    {
      "cell_type": "code",
      "metadata": {
        "id": "cDLXrqcNGlU7",
        "colab_type": "code",
        "colab": {
          "base_uri": "https://localhost:8080/",
          "height": 34
        },
        "outputId": "c50cf589-0e61-4514-d056-e600008ccafa"
      },
      "source": [
        "# Let's make sure the kaggle.json file is present.\n",
        "!ls -lha kaggle.json"
      ],
      "execution_count": null,
      "outputs": [
        {
          "output_type": "stream",
          "text": [
            "-rw-r--r-- 1 root root 63 Jul  3 06:32 kaggle.json\n"
          ],
          "name": "stdout"
        }
      ]
    },
    {
      "cell_type": "code",
      "metadata": {
        "id": "QITWh1N5GoqG",
        "colab_type": "code",
        "colab": {}
      },
      "source": [
        "# Next, install the Kaggle API client.\n",
        "!pip install -q kaggle"
      ],
      "execution_count": null,
      "outputs": []
    },
    {
      "cell_type": "code",
      "metadata": {
        "id": "KixiXyagGy7Y",
        "colab_type": "code",
        "colab": {}
      },
      "source": [
        "# The Kaggle API client expects this file to be in ~/.kaggle,\n",
        "# so move it there.\n",
        "!mkdir -p ~/.kaggle\n",
        "!cp kaggle.json ~/.kaggle/\n",
        "\n",
        "# This permissions change avoids a warning on Kaggle tool startup.\n",
        "!chmod 600 ~/.kaggle/kaggle.json"
      ],
      "execution_count": null,
      "outputs": []
    },
    {
      "cell_type": "code",
      "metadata": {
        "id": "rPZaJ7oOGuyh",
        "colab_type": "code",
        "colab": {
          "base_uri": "https://localhost:8080/",
          "height": 428
        },
        "outputId": "ea82d3ca-e440-4d17-a879-51bb701cd1e8"
      },
      "source": [
        "# List available datasets.\n",
        "# https://github.com/Kaggle/kaggle-api\n",
        "!kaggle datasets list -s face"
      ],
      "execution_count": null,
      "outputs": [
        {
          "output_type": "stream",
          "text": [
            "Warning: Looks like you're using an outdated API Version, please consider updating (server 1.5.6 / client 1.5.4)\n",
            "ref                                                          title                                            size  lastUpdated          downloadCount  \n",
            "-----------------------------------------------------------  ----------------------------------------------  -----  -------------------  -------------  \n",
            "dataturks/face-detection-in-images                           Face Detection in Images                         55KB  2018-07-12 09:34:14           6402  \n",
            "atulanandjha/lfwpeople                                       LFW - People (Face Recognition)                 232MB  2019-11-15 19:45:43           2757  \n",
            "splcher/animefacedataset                                     Anime Face Dataset                              395MB  2019-10-13 16:33:20           1340  \n",
            "selfishgene/youtube-faces-with-facial-keypoints              YouTube Faces With Facial Keypoints                0B  2020-05-25 22:53:33           4546  \n",
            "ciplab/real-and-fake-face-detection                          Real and Fake Face Detection                    431MB  2019-01-14 14:54:52           3482  \n",
            "timesler/facenet-pytorch-vggface2                            facenet pytorch vggface2                        112MB  2020-03-12 03:27:00           1128  \n",
            "berkeleyearth/climate-change-earth-surface-temperature-data  Climate Change: Earth Surface Temperature Data   85MB  2017-05-01 17:29:10          52286  \n",
            "kostastokis/simpsons-faces                                   Simpsons Faces                                  442MB  2018-09-28 17:38:04           3671  \n",
            "jessicali9530/celeba-dataset                                 CelebFaces Attributes (CelebA) Dataset            1GB  2018-06-01 20:08:48          32331  \n",
            "drgilermo/face-images-with-marked-landmark-points            Face Images with Marked Landmark Points         105MB  2017-09-19 18:39:17           3593  \n",
            "greatgamedota/ffhq-face-data-set                             FFHQ Face Data Set                                2GB  2019-10-12 22:12:09            255  \n",
            "gpreda/haar-cascades-for-face-detection                      Haar Cascades for Face Detection                  1MB  2019-12-21 21:09:41            575  \n",
            "jessicali9530/lfw-dataset                                    Labelled Faces in the Wild (LFW) Dataset        112MB  2018-05-17 19:57:27           4658  \n",
            "soumikrakshit/anime-faces                                    Anime Faces                                     441MB  2019-05-16 10:38:47           2098  \n",
            "facebook/facebook-v-results                                  Facebook V Results: Predicting Check Ins          3GB  2019-11-17 21:51:39           2823  \n",
            "humananalog/blazeface-pytorch                                BlazeFace PyTorch                               378KB  2020-01-12 21:24:08           1701  \n",
            "madislemsalu/facebook-ad-campaign                            Facebook Ad Campaign                             21KB  2019-01-11 17:23:56           2503  \n",
            "andrewmvd/face-mask-detection                                Face Mask Detection                             398MB  2020-05-22 07:18:42            713  \n",
            "mchirico/cheltenham-s-facebook-group                         Cheltenham's Facebook Groups                       0B  2018-04-02 18:55:36           1493  \n",
            "olgabelitskaya/yale-face-database                            Yale Face Database                               12MB  2018-09-05 09:54:51           2175  \n"
          ],
          "name": "stdout"
        }
      ]
    },
    {
      "cell_type": "code",
      "metadata": {
        "id": "0hyJ4Rb5HMwH",
        "colab_type": "code",
        "colab": {
          "base_uri": "https://localhost:8080/",
          "height": 68
        },
        "outputId": "e1a3aec2-8a1f-468e-937a-1a0df48b4488"
      },
      "source": [
        "# Copy the stackoverflow data set locally.\n",
        "!kaggle datasets download -d jessicali9530/lfw-dataset                                    "
      ],
      "execution_count": null,
      "outputs": [
        {
          "output_type": "stream",
          "text": [
            "Downloading lfw-dataset.zip to /content\n",
            " 86% 97.0M/112M [00:04<00:00, 22.7MB/s]\n",
            "100% 112M/112M [00:04<00:00, 27.6MB/s] \n"
          ],
          "name": "stdout"
        }
      ]
    },
    {
      "cell_type": "code",
      "metadata": {
        "id": "Dy7_TGgSZG6t",
        "colab_type": "code",
        "colab": {
          "base_uri": "https://localhost:8080/",
          "height": 139
        },
        "outputId": "b0e47c0e-5e03-4d6a-f17c-02acd4303e53"
      },
      "source": [
        "!mkdir -p ~/.kaggle/datasets/stackoverflow/stack-overflow-2018-developer-survey\n",
        "!kaggle datasets download -d stackoverflow/stack-overflow-2018-developer-survey\n",
        "!unzip stack-overflow-2018-developer-survey.zip -d ~/.kaggle/datasets/stackoverflow/stack-overflow-2018-developer-survey"
      ],
      "execution_count": null,
      "outputs": [
        {
          "output_type": "stream",
          "text": [
            "Downloading stack-overflow-2018-developer-survey.zip to /content\n",
            " 26% 5.00M/19.6M [00:01<00:03, 4.33MB/s]\n",
            "100% 19.6M/19.6M [00:01<00:00, 15.6MB/s]\n",
            "Archive:  stack-overflow-2018-developer-survey.zip\n",
            "  inflating: /root/.kaggle/datasets/stackoverflow/stack-overflow-2018-developer-survey/survey_results_public.csv  \n",
            "  inflating: /root/.kaggle/datasets/stackoverflow/stack-overflow-2018-developer-survey/survey_results_schema.csv  \n"
          ],
          "name": "stdout"
        }
      ]
    },
    {
      "cell_type": "code",
      "metadata": {
        "id": "8FgC4GlvHZQ1",
        "colab_type": "code",
        "colab": {
          "base_uri": "https://localhost:8080/",
          "height": 207
        },
        "outputId": "cad71d42-83d5-4fff-adc7-e982c7796df9"
      },
      "source": [
        "!head ~/.kaggle/datasets/stackoverflow/stack-overflow-2018-developer-survey/survey_results_public.csv"
      ],
      "execution_count": null,
      "outputs": [
        {
          "output_type": "stream",
          "text": [
            "Respondent,Hobby,OpenSource,Country,Student,Employment,FormalEducation,UndergradMajor,CompanySize,DevType,YearsCoding,YearsCodingProf,JobSatisfaction,CareerSatisfaction,HopeFiveYears,JobSearchStatus,LastNewJob,AssessJob1,AssessJob2,AssessJob3,AssessJob4,AssessJob5,AssessJob6,AssessJob7,AssessJob8,AssessJob9,AssessJob10,AssessBenefits1,AssessBenefits2,AssessBenefits3,AssessBenefits4,AssessBenefits5,AssessBenefits6,AssessBenefits7,AssessBenefits8,AssessBenefits9,AssessBenefits10,AssessBenefits11,JobContactPriorities1,JobContactPriorities2,JobContactPriorities3,JobContactPriorities4,JobContactPriorities5,JobEmailPriorities1,JobEmailPriorities2,JobEmailPriorities3,JobEmailPriorities4,JobEmailPriorities5,JobEmailPriorities6,JobEmailPriorities7,UpdateCV,Currency,Salary,SalaryType,ConvertedSalary,CurrencySymbol,CommunicationTools,TimeFullyProductive,EducationTypes,SelfTaughtTypes,TimeAfterBootcamp,HackathonReasons,AgreeDisagree1,AgreeDisagree2,AgreeDisagree3,LanguageWorkedWith,LanguageDesireNextYear,DatabaseWorkedWith,DatabaseDesireNextYear,PlatformWorkedWith,PlatformDesireNextYear,FrameworkWorkedWith,FrameworkDesireNextYear,IDE,OperatingSystem,NumberMonitors,Methodology,VersionControl,CheckInCode,AdBlocker,AdBlockerDisable,AdBlockerReasons,AdsAgreeDisagree1,AdsAgreeDisagree2,AdsAgreeDisagree3,AdsActions,AdsPriorities1,AdsPriorities2,AdsPriorities3,AdsPriorities4,AdsPriorities5,AdsPriorities6,AdsPriorities7,AIDangerous,AIInteresting,AIResponsible,AIFuture,EthicsChoice,EthicsReport,EthicsResponsible,EthicalImplications,StackOverflowRecommend,StackOverflowVisit,StackOverflowHasAccount,StackOverflowParticipate,StackOverflowJobs,StackOverflowDevStory,StackOverflowJobsRecommend,StackOverflowConsiderMember,HypotheticalTools1,HypotheticalTools2,HypotheticalTools3,HypotheticalTools4,HypotheticalTools5,WakeTime,HoursComputer,HoursOutside,SkipMeals,ErgonomicDevices,Exercise,Gender,SexualOrientation,EducationParents,RaceEthnicity,Age,Dependents,MilitaryUS,SurveyTooLong,SurveyEasy\n",
            "1,Yes,No,Kenya,No,Employed part-time,\"Bachelor’s degree (BA, BS, B.Eng., etc.)\",Mathematics or statistics,20 to 99 employees,Full-stack developer,3-5 years,3-5 years,Extremely satisfied,Extremely satisfied,Working as a founder or co-founder of my own company,\"I’m not actively looking, but I am open to new opportunities\",Less than a year ago,10,7,8,1,2,5,3,4,9,6,NA,NA,NA,NA,NA,NA,NA,NA,NA,NA,NA,3,1,4,2,5,5,6,7,2,1,4,3,My job status or other personal status changed,NA,NA,Monthly,NA,KES,Slack,One to three months,\"Taught yourself a new language, framework, or tool without taking a formal course;Participated in a hackathon\",\"The official documentation and/or standards for the technology;A book or e-book from O’Reilly, Apress, or a similar publisher;Questions & answers on Stack Overflow;Online developer communities other than Stack Overflow (ex. forums, listservs, IRC channels, etc.)\",NA,To build my professional network,Strongly agree,Strongly agree,Neither Agree nor Disagree,JavaScript;Python;HTML;CSS,JavaScript;Python;HTML;CSS,\"Redis;SQL Server;MySQL;PostgreSQL;Amazon RDS/Aurora;Microsoft Azure (Tables, CosmosDB, SQL, etc)\",\"Redis;SQL Server;MySQL;PostgreSQL;Amazon RDS/Aurora;Microsoft Azure (Tables, CosmosDB, SQL, etc)\",AWS;Azure;Linux;Firebase,AWS;Azure;Linux;Firebase,Django;React,Django;React,Komodo;Vim;Visual Studio Code,Linux-based,1,Agile;Scrum,Git,Multiple times per day,Yes,No,NA,Strongly agree,Strongly agree,Strongly agree,Saw an online advertisement and then researched it (without clicking on the ad);Stopped going to a website because of their advertising,1,5,4,7,2,6,3,\"Artificial intelligence surpassing human intelligence (\"\"the singularity\"\")\",Algorithms making important decisions,The developers or the people creating the AI,I'm excited about the possibilities more than worried about the dangers.,No,\"Yes, and publicly\",Upper management at the company/organization,Yes,10 (Very Likely),Multiple times per day,Yes,I have never participated in Q&A on Stack Overflow,\"No, I knew that Stack Overflow had a jobs board but have never used or visited it\",Yes,NA,Yes,Extremely interested,Extremely interested,Extremely interested,Extremely interested,Extremely interested,Between 5:00 - 6:00 AM,9 - 12 hours,1 - 2 hours,Never,Standing desk,3 - 4 times per week,Male,Straight or heterosexual,\"Bachelor’s degree (BA, BS, B.Eng., etc.)\",Black or of African descent,25 - 34 years old,Yes,NA,The survey was an appropriate length,Very easy\n",
            "3,Yes,Yes,United Kingdom,No,Employed full-time,\"Bachelor’s degree (BA, BS, B.Eng., etc.)\",\"A natural science (ex. biology, chemistry, physics)\",\"10,000 or more employees\",Database administrator;DevOps specialist;Full-stack developer;System administrator,30 or more years,18-20 years,Moderately dissatisfied,Neither satisfied nor dissatisfied,Working in a different or more specialized technical role than the one I'm in now,I am actively looking for a job,More than 4 years ago,1,7,10,8,2,5,4,3,6,9,1,5,3,7,10,4,11,9,6,2,8,3,1,5,2,4,1,3,4,5,2,6,7,I saw an employer’s advertisement,British pounds sterling (£),51000,Yearly,70841,GBP,\"Confluence;Office / productivity suite (Microsoft Office, Google Suite, etc.);Slack;Other wiki tool (Github, Google Sites, proprietary software, etc.)\",One to three months,\"Taught yourself a new language, framework, or tool without taking a formal course;Contributed to open source software\",The official documentation and/or standards for the technology;Questions & answers on Stack Overflow,NA,NA,Agree,Agree,Neither Agree nor Disagree,JavaScript;Python;Bash/Shell,Go;Python,Redis;PostgreSQL;Memcached,PostgreSQL,Linux,Linux,Django,React,IPython / Jupyter;Sublime Text;Vim,Linux-based,2,NA,Git;Subversion,A few times per week,Yes,Yes,The website I was visiting asked me to disable it,Somewhat agree,Neither agree nor disagree,Neither agree nor disagree,NA,3,5,1,4,6,7,2,Increasing automation of jobs,Increasing automation of jobs,The developers or the people creating the AI,I'm excited about the possibilities more than worried about the dangers.,Depends on what it is,Depends on what it is,Upper management at the company/organization,Yes,10 (Very Likely),A few times per month or weekly,Yes,A few times per month or weekly,Yes,\"No, I have one but it's out of date\",7,Yes,A little bit interested,A little bit interested,A little bit interested,A little bit interested,A little bit interested,Between 6:01 - 7:00 AM,5 - 8 hours,30 - 59 minutes,Never,Ergonomic keyboard or mouse,Daily or almost every day,Male,Straight or heterosexual,\"Bachelor’s degree (BA, BS, B.Eng., etc.)\",White or of European descent,35 - 44 years old,Yes,NA,The survey was an appropriate length,Somewhat easy\n",
            "4,Yes,Yes,United States,No,Employed full-time,Associate degree,\"Computer science, computer engineering, or software engineering\",20 to 99 employees,Engineering manager;Full-stack developer,24-26 years,6-8 years,Moderately satisfied,Moderately satisfied,Working as a founder or co-founder of my own company,\"I’m not actively looking, but I am open to new opportunities\",Less than a year ago,NA,NA,NA,NA,NA,NA,NA,NA,NA,NA,NA,NA,NA,NA,NA,NA,NA,NA,NA,NA,NA,NA,NA,NA,NA,NA,NA,NA,NA,NA,NA,NA,NA,NA,NA,NA,NA,NA,NA,NA,NA,NA,NA,NA,NA,NA,NA,NA,NA,NA,NA,NA,NA,NA,NA,NA,NA,NA,NA,NA,NA,NA,NA,NA,NA,NA,NA,NA,NA,NA,NA,NA,NA,NA,NA,NA,NA,NA,NA,NA,NA,NA,NA,NA,NA,NA,NA,NA,NA,NA,NA,NA,NA,NA,NA,NA,NA,NA,NA,NA,NA,NA,NA,NA,NA,NA,NA,NA,NA,NA,NA,NA\n",
            "5,No,No,United States,No,Employed full-time,\"Bachelor’s degree (BA, BS, B.Eng., etc.)\",\"Computer science, computer engineering, or software engineering\",100 to 499 employees,Full-stack developer,18-20 years,12-14 years,Neither satisfied nor dissatisfied,Slightly dissatisfied,Working as a founder or co-founder of my own company,\"I’m not actively looking, but I am open to new opportunities\",Less than a year ago,NA,NA,NA,NA,NA,NA,NA,NA,NA,NA,NA,NA,NA,NA,NA,NA,NA,NA,NA,NA,NA,NA,NA,NA,NA,NA,NA,NA,NA,NA,NA,NA,NA,A recruiter contacted me,U.S. dollars ($),NA,NA,NA,NA,NA,Three to six months,\"Completed an industry certification program (e.g. MCPD);Taught yourself a new language, framework, or tool without taking a formal course\",\"The official documentation and/or standards for the technology;A book or e-book from O’Reilly, Apress, or a similar publisher;Questions & answers on Stack Overflow;The technology’s online help system\",NA,NA,Disagree,Disagree,Strongly disagree,C#;JavaScript;SQL;TypeScript;HTML;CSS;Bash/Shell,C#;JavaScript;SQL;TypeScript;HTML;CSS;Bash/Shell,\"SQL Server;Microsoft Azure (Tables, CosmosDB, SQL, etc)\",\"SQL Server;Microsoft Azure (Tables, CosmosDB, SQL, etc)\",Azure,Azure,NA,Angular;.NET Core;React,Visual Studio;Visual Studio Code,Windows,2,Agile;Kanban;Scrum,Git,Multiple times per day,Yes,Yes,The ad-blocking software was causing display issues on a website,Neither agree nor disagree,Somewhat agree,Somewhat agree,Stopped going to a website because of their advertising,NA,NA,NA,NA,NA,NA,NA,\"Artificial intelligence surpassing human intelligence (\"\"the singularity\"\")\",\"Artificial intelligence surpassing human intelligence (\"\"the singularity\"\")\",A governmental or other regulatory body,\"I don't care about it, or I haven't thought about it.\",No,\"Yes, but only within the company\",Upper management at the company/organization,Yes,10 (Very Likely),A few times per week,Yes,A few times per month or weekly,Yes,\"No, I have one but it's out of date\",8,Yes,Somewhat interested,Somewhat interested,Somewhat interested,Somewhat interested,Somewhat interested,Between 6:01 - 7:00 AM,9 - 12 hours,Less than 30 minutes,3 - 4 times per week,NA,I don't typically exercise,Male,Straight or heterosexual,Some college/university study without earning a degree,White or of European descent,35 - 44 years old,No,No,The survey was an appropriate length,Somewhat easy\n",
            "7,Yes,No,South Africa,\"Yes, part-time\",Employed full-time,Some college/university study without earning a degree,\"Computer science, computer engineering, or software engineering\",\"10,000 or more employees\",Data or business analyst;Desktop or enterprise applications developer;Game or graphics developer;QA or test developer;Student,6-8 years,0-2 years,Slightly satisfied,Moderately satisfied,Working in a different or more specialized technical role than the one I'm in now,\"I’m not actively looking, but I am open to new opportunities\",Between 1 and 2 years ago,8,5,7,1,2,6,4,3,10,9,1,10,2,4,8,3,11,7,5,9,6,2,1,4,5,3,7,3,6,2,1,4,5,My job status or other personal status changed,South African rands (R),260000,Yearly,21426,ZAR,\"Office / productivity suite (Microsoft Office, Google Suite, etc.)\",Three to six months,\"Taken a part-time in-person course in programming or software development;Received on-the-job training in software development;Taught yourself a new language, framework, or tool without taking a formal course\",\"The official documentation and/or standards for the technology;A book or e-book from O’Reilly, Apress, or a similar publisher;Questions & answers on Stack Overflow\",NA,NA,Strongly agree,Agree,Strongly disagree,C;C++;Java;Matlab;R;SQL;Bash/Shell,Assembly;C;C++;Matlab;SQL;Bash/Shell,SQL Server;PostgreSQL;Oracle;IBM Db2,PostgreSQL;Oracle;IBM Db2,Arduino;Windows Desktop or Server,Arduino;Windows Desktop or Server,NA,NA,Notepad++;Visual Studio;Visual Studio Code,Windows,2,Evidence-based software engineering;Formal standard such as ISO 9001 or IEEE 12207 (aka “waterfall” methodologies),Zip file back-ups,Weekly or a few times per month,No,NA,NA,Somewhat agree,Somewhat agree,Somewhat disagree,Clicked on an online advertisement;Saw an online advertisement and then researched it (without clicking on the ad),2,3,4,6,1,7,5,Algorithms making important decisions,Algorithms making important decisions,The developers or the people creating the AI,I'm excited about the possibilities more than worried about the dangers.,No,\"Yes, but only within the company\",Upper management at the company/organization,Yes,10 (Very Likely),Daily or almost daily,Yes,Less than once per month or monthly,\"No, I knew that Stack Overflow had a jobs board but have never used or visited it\",\"No, I know what it is but I don't have one\",NA,Yes,Extremely interested,Extremely interested,Extremely interested,Extremely interested,Extremely interested,Before 5:00 AM,Over 12 hours,1 - 2 hours,Never,NA,3 - 4 times per week,Male,Straight or heterosexual,Some college/university study without earning a degree,White or of European descent,18 - 24 years old,Yes,NA,The survey was an appropriate length,Somewhat easy\n",
            "8,Yes,No,United Kingdom,No,Employed full-time,\"Bachelor’s degree (BA, BS, B.Eng., etc.)\",\"Computer science, computer engineering, or software engineering\",10 to 19 employees,Back-end developer;Database administrator;Front-end developer;Full-stack developer,6-8 years,3-5 years,Moderately satisfied,Slightly satisfied,Working in a different or more specialized technical role than the one I'm in now,I am actively looking for a job,Between 2 and 4 years ago,8,5,4,9,1,3,6,2,10,7,1,3,4,10,9,2,6,5,11,7,8,4,2,5,1,3,2,6,7,3,1,5,4,I did not receive an expected change in compensation,British pounds sterling (£),30000,NA,41671,GBP,\"Confluence;Jira;Office / productivity suite (Microsoft Office, Google Suite, etc.);Other chat system (IRC, proprietary software, etc.)\",Less than a month,\"Received on-the-job training in software development;Taught yourself a new language, framework, or tool without taking a formal course;Participated in online coding competitions (e.g. HackerRank, CodeChef, TopCoder)\",\"The official documentation and/or standards for the technology;Online developer communities other than Stack Overflow (ex. forums, listservs, IRC channels, etc.)\",NA,\"To improve my general technical skills or programming ability;To improve my knowledge of a specific programming language, framework, or other technology;Because I find it enjoyable\",Disagree,Neither Agree nor Disagree,Strongly disagree,Java;JavaScript;Python;TypeScript;HTML;CSS,C#;Go;Java;JavaScript;Python;SQL;TypeScript;HTML;CSS,MongoDB,PostgreSQL,Linux,Linux,Angular;Node.js,Node.js,IntelliJ;PyCharm;Visual Studio Code,Linux-based,2,Agile,Git,A few times per week,Yes,Yes,I wanted to support the website I was visiting by viewing their ads,Somewhat agree,Somewhat agree,Somewhat disagree,Saw an online advertisement and then researched it (without clicking on the ad);Stopped going to a website because of their advertising,1,3,4,2,7,5,6,Increasing automation of jobs,Algorithms making important decisions,A governmental or other regulatory body,I'm excited about the possibilities more than worried about the dangers.,Depends on what it is,Depends on what it is,Upper management at the company/organization,Unsure / I don't know,7,A few times per month or weekly,Yes,Less than once per month or monthly,Yes,\"No, I have one but it's out of date\",8,No,A little bit interested,Not at all interested,Very interested,Very interested,Extremely interested,Between 7:01 - 8:00 AM,9 - 12 hours,30 - 59 minutes,1 - 2 times per week,NA,1 - 2 times per week,Male,Straight or heterosexual,\"Secondary school (e.g. American high school, German Realschule or Gymnasium, etc.)\",White or of European descent,18 - 24 years old,No,NA,The survey was an appropriate length,Somewhat easy\n",
            "9,Yes,Yes,United States,No,Employed full-time,Some college/university study without earning a degree,\"Computer science, computer engineering, or software engineering\",\"10,000 or more employees\",Back-end developer;Front-end developer;Full-stack developer,9-11 years,0-2 years,Slightly satisfied,Moderately satisfied,Working as a founder or co-founder of my own company,\"I’m not actively looking, but I am open to new opportunities\",Less than a year ago,5,3,9,4,1,8,2,7,10,6,1,3,2,9,11,4,8,6,7,10,5,3,1,5,4,2,1,5,3,4,2,6,7,My job status or other personal status changed,U.S. dollars ($),120000,Yearly,120000,USD,\"Confluence;Office / productivity suite (Microsoft Office, Google Suite, etc.);Stack Overflow Enterprise;Other chat system (IRC, proprietary software, etc.);Other wiki tool (Github, Google Sites, proprietary software, etc.)\",Six to nine months,\"Received on-the-job training in software development;Taught yourself a new language, framework, or tool without taking a formal course\",\"The official documentation and/or standards for the technology;Questions & answers on Stack Overflow;Online developer communities other than Stack Overflow (ex. forums, listservs, IRC channels, etc.)\",NA,NA,Disagree,Agree,Strongly disagree,JavaScript;HTML;CSS,C;Go;JavaScript;Python;HTML;CSS,MongoDB,NA,Linux,Linux,Node.js;React,React;TensorFlow,Atom;Visual Studio Code,MacOS,2,Agile;Scrum,Git,Multiple times per day,Yes,Yes,The ad-blocking software was causing display issues on a website,Somewhat disagree,Neither agree nor disagree,Somewhat disagree,Clicked on an online advertisement;Stopped going to a website because of their advertising,1,4,2,5,3,7,6,Algorithms making important decisions,\"Artificial intelligence surpassing human intelligence (\"\"the singularity\"\")\",The developers or the people creating the AI,I'm excited about the possibilities more than worried about the dangers.,Depends on what it is,\"Yes, but only within the company\",Upper management at the company/organization,Yes,10 (Very Likely),Multiple times per day,Yes,I have never participated in Q&A on Stack Overflow,Yes,\"No, I have one but it's out of date\",7,No,Very interested,A little bit interested,Extremely interested,Very interested,Very interested,Between 9:01 - 10:00 AM,Over 12 hours,Less than 30 minutes,1 - 2 times per week,NA,I don't typically exercise,Male,Straight or heterosexual,\"Master’s degree (MA, MS, M.Eng., MBA, etc.)\",White or of European descent,18 - 24 years old,No,No,The survey was an appropriate length,Somewhat easy\n",
            "10,Yes,Yes,Nigeria,No,Employed full-time,\"Bachelor’s degree (BA, BS, B.Eng., etc.)\",\"Computer science, computer engineering, or software engineering\",10 to 19 employees,Designer;Front-end developer;QA or test developer,0-2 years,3-5 years,Slightly satisfied,Moderately satisfied,Working as a founder or co-founder of my own company,\"I’m not actively looking, but I am open to new opportunities\",Less than a year ago,6,5,4,2,7,8,10,1,9,3,1,3,5,7,6,2,11,9,4,10,8,1,3,2,4,5,2,6,1,3,7,5,4,I saw an employer’s advertisement,NA,NA,NA,NA,NA,\"Facebook;Google Hangouts/Chat;Office / productivity suite (Microsoft Office, Google Suite, etc.);Slack;Trello;Other wiki tool (Github, Google Sites, proprietary software, etc.)\",One to three months,\"Taken an online course in programming or software development (e.g. a MOOC);Participated in a full-time developer training program or bootcamp;Received on-the-job training in software development;Participated in online coding competitions (e.g. HackerRank, CodeChef, TopCoder);Contributed to open source software\",NA,Immediately after graduating,\"To improve my general technical skills or programming ability;To improve my knowledge of a specific programming language, framework, or other technology;To improve my ability to work on a team with other programmers;Because I find it enjoyable\",Strongly agree,Strongly disagree,Neither Agree nor Disagree,JavaScript;TypeScript;HTML;CSS,Matlab;SQL;Kotlin;Bash/Shell,\"MongoDB;MySQL;Microsoft Azure (Tables, CosmosDB, SQL, etc);Google Cloud Storage\",NA,Azure;Heroku,Amazon Echo;Android;Apple Watch or Apple TV;AWS;Google Cloud Platform/App Engine;Google Home;iOS;WordPress;Firebase,Angular;Node.js,.NET Core;Django,Atom;Notepad++;Sublime Text;Visual Studio Code,Windows,1,Agile;Extreme programming (XP);Scrum,Git,Multiple times per day,Yes,No,NA,Strongly agree,Neither agree nor disagree,Strongly disagree,Saw an online advertisement and then researched it (without clicking on the ad),NA,NA,NA,NA,NA,NA,NA,\"Artificial intelligence surpassing human intelligence (\"\"the singularity\"\")\",\"Evolving definitions of \"\"fairness\"\" in algorithmic versus human decisions\",NA,I'm excited about the possibilities more than worried about the dangers.,Depends on what it is,\"Yes, but only within the company\",The developer who wrote it,Yes,10 (Very Likely),Daily or almost daily,Yes,A few times per month or weekly,\"No, I knew that Stack Overflow had a jobs board but have never used or visited it\",\"No, and I don't know what that is\",NA,Yes,Very interested,Very interested,Very interested,A little bit interested,Extremely interested,I do not have a set schedule,Over 12 hours,1 - 2 hours,Daily or almost every day,NA,1 - 2 times per week,Female,NA,Primary/elementary school,Black or of African descent,25 - 34 years old,No,NA,The survey was too long,Somewhat difficult\n",
            "11,Yes,Yes,United States,No,Employed full-time,Some college/university study without earning a degree,\"Fine arts or performing arts (ex. graphic design, music, studio art)\",100 to 499 employees,\"Back-end developer;C-suite executive (CEO, CTO, etc.);Data or business analyst;Database administrator;DevOps specialist;Engineering manager;Full-stack developer;System administrator\",30 or more years,21-23 years,Moderately satisfied,Moderately satisfied,Doing the same work,\"I’m not actively looking, but I am open to new opportunities\",Between 2 and 4 years ago,6,3,7,4,1,5,10,8,9,2,1,3,2,9,11,5,8,4,10,7,6,5,1,2,3,4,3,7,2,4,1,6,5,My job status or other personal status changed,U.S. dollars ($),250000,Yearly,250000,USD,\"Confluence;HipChat;Jira;Office / productivity suite (Microsoft Office, Google Suite, etc.)\",Three to six months,\"Taken an online course in programming or software development (e.g. a MOOC);Taught yourself a new language, framework, or tool without taking a formal course;Participated in a hackathon;Contributed to open source software\",\"The official documentation and/or standards for the technology;A book or e-book from O’Reilly, Apress, or a similar publisher;A college/university computer science or software engineering book;Online developer communities other than Stack Overflow (ex. forums, listservs, IRC channels, etc.);Tapping your network of friends, family, and peers versed in the technology;The technology’s online help system\",NA,Because I find it enjoyable,Strongly agree,Strongly disagree,Strongly disagree,Assembly;CoffeeScript;Erlang;Go;JavaScript;Lua;Python;Ruby;SQL;HTML;CSS;Bash/Shell,Erlang;Go;Python;Rust;SQL,Redis;PostgreSQL;Amazon DynamoDB;Apache HBase;Apache Hive;Amazon Redshift;Amazon RDS/Aurora;Elasticsearch,Redis;PostgreSQL;Amazon DynamoDB;Apache Hive;Amazon RDS/Aurora;Neo4j,Amazon Echo;AWS;iOS;Linux;Mac OS;Serverless,AWS;Linux;Mac OS;Serverless,Hadoop;Node.js;React;Spark,NA,IntelliJ;PyCharm;Sublime Text;Vim,MacOS,1,Agile;Evidence-based software engineering;Extreme programming (XP);Formal standard such as ISO 9001 or IEEE 12207 (aka “waterfall” methodologies);Kanban;Lean;Pair programming;Scrum,Git,Multiple times per day,No,NA,NA,Neither agree nor disagree,Somewhat agree,Neither agree nor disagree,Clicked on an online advertisement;Saw an online advertisement and then researched it (without clicking on the ad);Stopped going to a website because of their advertising,1,3,5,4,2,7,6,Algorithms making important decisions,\"Artificial intelligence surpassing human intelligence (\"\"the singularity\"\")\",The developers or the people creating the AI,I'm worried about the dangers more than I'm excited about the possibilities.,No,\"Yes, and publicly\",The person who came up with the idea,Yes,7,A few times per month or weekly,Yes,Less than once per month or monthly,Yes,Yes,7,No,Not at all interested,Not at all interested,Not at all interested,Not at all interested,Not at all interested,Between 8:01 - 9:00 AM,9 - 12 hours,Less than 30 minutes,1 - 2 times per week,Standing desk;Fatigue-relieving floor mat,I don't typically exercise,Male,Straight or heterosexual,Some college/university study without earning a degree,White or of European descent,35 - 44 years old,Yes,No,The survey was an appropriate length,Very easy\n"
          ],
          "name": "stdout"
        }
      ]
    }
  ]
}
